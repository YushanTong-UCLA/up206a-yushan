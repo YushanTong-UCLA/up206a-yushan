{
 "cells": [
  {
   "cell_type": "markdown",
   "metadata": {},
   "source": [
    "# Week 3 reading response"
   ]
  },
  {
   "cell_type": "markdown",
   "metadata": {},
   "source": [
    "In the reading (\"Off the Grid… and Back Again? The Recent Evolution of American Street Network Planning and Design\"), Boeing discussed how the US street nework design on the neighborhood scale shifted over time, especially under the influence of automobiles, and explored the relationship between griddedness and car ownership. His study measures how street network design grew more \"coarse grained\", and became increasingly disconnected over the 20th Century. This shift of street network was strongly influenced by growing popularity of automobiles in 20th Century and has a long-lasting effect on the circulation patterns and needs, in terms of ecological impact, human health, and urban forms today. In the recent years, there is an increasing demand for neotraditional compactedness and connectedness, and it's important to understand the mechanism and the measurement of griddedness in the past to inform future decision making to counter the negative climate impact and human health imfluence brought by the urban sprawl in 20th Century. Because of this impact of street network, Boeing developed a theoretical and measurement framework for street neighborhood griddedness and new urban form vintage estimation methods and algorithms. Boeing's study provided insight on the relationship between car ownerhsip and the shift of griddedness on the neighborhood analytic level. The current neotraditional trend of cities to increase compactedness and connectedness reflected the demand for more walkable places, and planners needs to mitigate climate impact and the pervasive car dependence with denser, interconnected networks that promote non-motorized travels and mass transit. Boeing's research provied evidence of trends in this direction towards the neotraditional street network and a more sustainable urban forms. "
   ]
  },
  {
   "cell_type": "code",
   "execution_count": null,
   "metadata": {},
   "outputs": [],
   "source": []
  }
 ],
 "metadata": {
  "kernelspec": {
   "display_name": "Python 3",
   "language": "python",
   "name": "python3"
  },
  "language_info": {
   "codemirror_mode": {
    "name": "ipython",
    "version": 3
   },
   "file_extension": ".py",
   "mimetype": "text/x-python",
   "name": "python",
   "nbconvert_exporter": "python",
   "pygments_lexer": "ipython3",
   "version": "3.8.5"
  },
  "toc": {
   "base_numbering": 1,
   "nav_menu": {},
   "number_sections": true,
   "sideBar": true,
   "skip_h1_title": false,
   "title_cell": "Table of Contents",
   "title_sidebar": "Contents",
   "toc_cell": false,
   "toc_position": {},
   "toc_section_display": true,
   "toc_window_display": false
  }
 },
 "nbformat": 4,
 "nbformat_minor": 4
}
