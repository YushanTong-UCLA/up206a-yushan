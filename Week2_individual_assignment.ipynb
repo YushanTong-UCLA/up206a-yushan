{
 "cells": [
  {
   "cell_type": "markdown",
   "metadata": {},
   "source": [
    "# Introduction to dataset\n",
    "\n",
    "I will use the dataset from NYC Department of Planning for this assignment. The dataset includes the neighborhoods in each borough in NYC. I will perform data exploration and plotting with coding. "
   ]
  },
  {
   "cell_type": "markdown",
   "metadata": {},
   "source": [
    "## Import data"
   ]
  },
  {
   "cell_type": "markdown",
   "metadata": {},
   "source": [
    "We will import module `geopandas` to analyze the shapefile dataset. "
   ]
  },
  {
   "cell_type": "code",
   "execution_count": null,
   "metadata": {},
   "outputs": [],
   "source": [
    "# geopanda is a module that allows us to use various spatial data formats, and plot them on the map. \n",
    "import geopandas as gpd"
   ]
  },
  {
   "cell_type": "markdown",
   "metadata": {},
   "source": [
    "Import New York Neighborhood Tabulation Dataset from [NYC Department of Planning](https://www1.nyc.gov/site/planning/data-maps/open-data/dwn-nynta.page). "
   ]
  },
  {
   "cell_type": "code",
   "execution_count": null,
   "metadata": {},
   "outputs": [],
   "source": [
    "# Import the New York Neighborhood Tabulation dataset. \n",
    "neighborhood = gpd.read_file('nynta.shp')"
   ]
  },
  {
   "cell_type": "markdown",
   "metadata": {},
   "source": [
    "I have now imported the downloaded dataset to this notebook."
   ]
  },
  {
   "cell_type": "markdown",
   "metadata": {},
   "source": [
    "## Data exploration"
   ]
  },
  {
   "cell_type": "markdown",
   "metadata": {},
   "source": [
    "There are many ways to explore a dataset. I will show some of the command I learned in class and apply them to the dataset I imported in the previous steps."
   ]
  },
  {
   "cell_type": "markdown",
   "metadata": {},
   "source": [
    "I first used `type` command to determine the type of the data."
   ]
  },
  {
   "cell_type": "code",
   "execution_count": 18,
   "metadata": {},
   "outputs": [
    {
     "data": {
      "text/plain": [
       "geopandas.geodataframe.GeoDataFrame"
      ]
     },
     "execution_count": 18,
     "metadata": {},
     "output_type": "execute_result"
    }
   ],
   "source": [
    "#What's the data type?\n",
    "type(neighborhood)"
   ]
  },
  {
   "cell_type": "markdown",
   "metadata": {},
   "source": [
    "The data type is a geodataframe"
   ]
  },
  {
   "cell_type": "markdown",
   "metadata": {},
   "source": [
    "I used the `head` command to see the first 5 rows of the dataset."
   ]
  },
  {
   "cell_type": "code",
   "execution_count": 24,
   "metadata": {},
   "outputs": [
    {
     "data": {
      "text/html": [
       "<div>\n",
       "<style scoped>\n",
       "    .dataframe tbody tr th:only-of-type {\n",
       "        vertical-align: middle;\n",
       "    }\n",
       "\n",
       "    .dataframe tbody tr th {\n",
       "        vertical-align: top;\n",
       "    }\n",
       "\n",
       "    .dataframe thead th {\n",
       "        text-align: right;\n",
       "    }\n",
       "</style>\n",
       "<table border=\"1\" class=\"dataframe\">\n",
       "  <thead>\n",
       "    <tr style=\"text-align: right;\">\n",
       "      <th></th>\n",
       "      <th>BoroCode</th>\n",
       "      <th>BoroName</th>\n",
       "      <th>CountyFIPS</th>\n",
       "      <th>NTACode</th>\n",
       "      <th>NTAName</th>\n",
       "      <th>Shape_Leng</th>\n",
       "      <th>Shape_Area</th>\n",
       "      <th>geometry</th>\n",
       "    </tr>\n",
       "  </thead>\n",
       "  <tbody>\n",
       "    <tr>\n",
       "      <th>0</th>\n",
       "      <td>3</td>\n",
       "      <td>Brooklyn</td>\n",
       "      <td>047</td>\n",
       "      <td>BK88</td>\n",
       "      <td>Borough Park</td>\n",
       "      <td>39247.227831</td>\n",
       "      <td>5.400502e+07</td>\n",
       "      <td>POLYGON ((990897.900 169268.121, 990588.252 16...</td>\n",
       "    </tr>\n",
       "    <tr>\n",
       "      <th>1</th>\n",
       "      <td>4</td>\n",
       "      <td>Queens</td>\n",
       "      <td>081</td>\n",
       "      <td>QN51</td>\n",
       "      <td>Murray Hill</td>\n",
       "      <td>33266.904872</td>\n",
       "      <td>5.248828e+07</td>\n",
       "      <td>POLYGON ((1038593.459 221913.355, 1039369.281 ...</td>\n",
       "    </tr>\n",
       "    <tr>\n",
       "      <th>2</th>\n",
       "      <td>4</td>\n",
       "      <td>Queens</td>\n",
       "      <td>081</td>\n",
       "      <td>QN27</td>\n",
       "      <td>East Elmhurst</td>\n",
       "      <td>19816.712132</td>\n",
       "      <td>1.972685e+07</td>\n",
       "      <td>POLYGON ((1022728.275 217530.808, 1023052.645 ...</td>\n",
       "    </tr>\n",
       "    <tr>\n",
       "      <th>3</th>\n",
       "      <td>4</td>\n",
       "      <td>Queens</td>\n",
       "      <td>081</td>\n",
       "      <td>QN07</td>\n",
       "      <td>Hollis</td>\n",
       "      <td>20976.335600</td>\n",
       "      <td>2.288777e+07</td>\n",
       "      <td>POLYGON ((1051539.660 201007.013, 1051920.726 ...</td>\n",
       "    </tr>\n",
       "    <tr>\n",
       "      <th>4</th>\n",
       "      <td>3</td>\n",
       "      <td>Brooklyn</td>\n",
       "      <td>047</td>\n",
       "      <td>BK25</td>\n",
       "      <td>Homecrest</td>\n",
       "      <td>27514.022918</td>\n",
       "      <td>2.999197e+07</td>\n",
       "      <td>POLYGON ((995746.857 161665.390, 995833.832 16...</td>\n",
       "    </tr>\n",
       "  </tbody>\n",
       "</table>\n",
       "</div>"
      ],
      "text/plain": [
       "   BoroCode  BoroName CountyFIPS NTACode        NTAName    Shape_Leng  \\\n",
       "0         3  Brooklyn        047    BK88   Borough Park  39247.227831   \n",
       "1         4    Queens        081    QN51    Murray Hill  33266.904872   \n",
       "2         4    Queens        081    QN27  East Elmhurst  19816.712132   \n",
       "3         4    Queens        081    QN07         Hollis  20976.335600   \n",
       "4         3  Brooklyn        047    BK25      Homecrest  27514.022918   \n",
       "\n",
       "     Shape_Area                                           geometry  \n",
       "0  5.400502e+07  POLYGON ((990897.900 169268.121, 990588.252 16...  \n",
       "1  5.248828e+07  POLYGON ((1038593.459 221913.355, 1039369.281 ...  \n",
       "2  1.972685e+07  POLYGON ((1022728.275 217530.808, 1023052.645 ...  \n",
       "3  2.288777e+07  POLYGON ((1051539.660 201007.013, 1051920.726 ...  \n",
       "4  2.999197e+07  POLYGON ((995746.857 161665.390, 995833.832 16...  "
      ]
     },
     "execution_count": 24,
     "metadata": {},
     "output_type": "execute_result"
    }
   ],
   "source": [
    "neighborhood.head()"
   ]
  },
  {
   "cell_type": "markdown",
   "metadata": {},
   "source": [
    "I used `dtypes` command to get datatypes from each column of the dataset"
   ]
  },
  {
   "cell_type": "code",
   "execution_count": 20,
   "metadata": {},
   "outputs": [
    {
     "data": {
      "text/plain": [
       "BoroCode         int64\n",
       "BoroName        object\n",
       "CountyFIPS      object\n",
       "NTACode         object\n",
       "NTAName         object\n",
       "Shape_Leng     float64\n",
       "Shape_Area     float64\n",
       "geometry      geometry\n",
       "dtype: object"
      ]
     },
     "execution_count": 20,
     "metadata": {},
     "output_type": "execute_result"
    }
   ],
   "source": [
    "neighborhood.dtypes"
   ]
  },
  {
   "cell_type": "markdown",
   "metadata": {},
   "source": [
    "I used `info` command to get more detailed information about the dataset"
   ]
  },
  {
   "cell_type": "code",
   "execution_count": 27,
   "metadata": {},
   "outputs": [
    {
     "data": {
      "text/plain": [
       "<bound method DataFrame.info of      BoroCode       BoroName CountyFIPS NTACode  \\\n",
       "0           3       Brooklyn        047    BK88   \n",
       "1           4         Queens        081    QN51   \n",
       "2           4         Queens        081    QN27   \n",
       "3           4         Queens        081    QN07   \n",
       "4           3       Brooklyn        047    BK25   \n",
       "..        ...            ...        ...     ...   \n",
       "190         4         Queens        081    QN29   \n",
       "191         4         Queens        081    QN50   \n",
       "192         5  Staten Island        085    SI24   \n",
       "193         5  Staten Island        085    SI36   \n",
       "194         5  Staten Island        085    SI99   \n",
       "\n",
       "                                               NTAName    Shape_Leng  \\\n",
       "0                                         Borough Park  39247.227831   \n",
       "1                                          Murray Hill  33266.904872   \n",
       "2                                        East Elmhurst  19816.712132   \n",
       "3                                               Hollis  20976.335600   \n",
       "4                                            Homecrest  27514.022918   \n",
       "..                                                 ...           ...   \n",
       "190                                           Elmhurst  36711.312417   \n",
       "191                                   Elmhurst-Maspeth  32362.801006   \n",
       "192  Todt Hill-Emerson Hill-Heartland Village-Light...  75943.556340   \n",
       "193                  Old Town-Dongan Hills-South Beach  41973.135765   \n",
       "194                    park-cemetery-etc-Staten Island  46217.323052   \n",
       "\n",
       "       Shape_Area                                           geometry  \n",
       "0    5.400502e+07  POLYGON ((990897.900 169268.121, 990588.252 16...  \n",
       "1    5.248828e+07  POLYGON ((1038593.459 221913.355, 1039369.281 ...  \n",
       "2    1.972685e+07  POLYGON ((1022728.275 217530.808, 1023052.645 ...  \n",
       "3    2.288777e+07  POLYGON ((1051539.660 201007.013, 1051920.726 ...  \n",
       "4    2.999197e+07  POLYGON ((995746.857 161665.390, 995833.832 16...  \n",
       "..            ...                                                ...  \n",
       "190  3.267524e+07  POLYGON ((1020851.425 210703.673, 1020860.825 ...  \n",
       "191  2.192777e+07  POLYGON ((1014244.431 211378.830, 1014343.991 ...  \n",
       "192  1.848789e+08  POLYGON ((957104.002 161758.179, 957233.148 16...  \n",
       "193  6.701197e+07  POLYGON ((966187.482 153868.426, 966187.523 15...  \n",
       "194  2.401472e+07  MULTIPOLYGON (((951420.092 139894.411, 951856....  \n",
       "\n",
       "[195 rows x 8 columns]>"
      ]
     },
     "execution_count": 27,
     "metadata": {},
     "output_type": "execute_result"
    }
   ],
   "source": [
    "neighborhood.info"
   ]
  },
  {
   "cell_type": "markdown",
   "metadata": {},
   "source": [
    "I used `shape` command to find out the numbers of rows and columns of the data set"
   ]
  },
  {
   "cell_type": "code",
   "execution_count": 29,
   "metadata": {},
   "outputs": [
    {
     "data": {
      "text/plain": [
       "(195, 8)"
      ]
     },
     "execution_count": 29,
     "metadata": {},
     "output_type": "execute_result"
    }
   ],
   "source": [
    "neighborhood.shape"
   ]
  },
  {
   "cell_type": "markdown",
   "metadata": {},
   "source": [
    "This dataset has 195 rows and 8 columns. "
   ]
  },
  {
   "cell_type": "markdown",
   "metadata": {},
   "source": [
    "### counting unique value in a column\n",
    "How to find out how many neighborhoods are in each borough?"
   ]
  },
  {
   "cell_type": "markdown",
   "metadata": {},
   "source": [
    "First, find out values from a single column"
   ]
  },
  {
   "cell_type": "code",
   "execution_count": 42,
   "metadata": {},
   "outputs": [
    {
     "data": {
      "text/plain": [
       "0           Brooklyn\n",
       "1             Queens\n",
       "2             Queens\n",
       "3             Queens\n",
       "4           Brooklyn\n",
       "           ...      \n",
       "190           Queens\n",
       "191           Queens\n",
       "192    Staten Island\n",
       "193    Staten Island\n",
       "194    Staten Island\n",
       "Name: BoroName, Length: 195, dtype: object"
      ]
     },
     "execution_count": 42,
     "metadata": {},
     "output_type": "execute_result"
    }
   ],
   "source": [
    "#single column\n",
    "neighborhood['BoroName']"
   ]
  },
  {
   "cell_type": "markdown",
   "metadata": {},
   "source": [
    "Next, find out how many neighborhoods are in each borough using `value_counts` command"
   ]
  },
  {
   "cell_type": "code",
   "execution_count": 43,
   "metadata": {},
   "outputs": [
    {
     "data": {
      "text/plain": [
       "Queens           58\n",
       "Brooklyn         51\n",
       "Bronx            38\n",
       "Manhattan        29\n",
       "Staten Island    19\n",
       "Name: BoroName, dtype: int64"
      ]
     },
     "execution_count": 43,
     "metadata": {},
     "output_type": "execute_result"
    }
   ],
   "source": [
    "neighborhood['BoroName'].value_counts()"
   ]
  },
  {
   "cell_type": "code",
   "execution_count": 47,
   "metadata": {},
   "outputs": [
    {
     "data": {
      "text/plain": [
       "Queens           58\n",
       "Brooklyn         51\n",
       "Bronx            38\n",
       "Manhattan        29\n",
       "Staten Island    19\n",
       "Name: BoroName, dtype: int64"
      ]
     },
     "execution_count": 47,
     "metadata": {},
     "output_type": "execute_result"
    }
   ],
   "source": [
    "#save it as a variable\n",
    "neighborhood_count=neighborhood['BoroName'].value_counts()\n",
    "neighborhood_count"
   ]
  },
  {
   "cell_type": "code",
   "execution_count": 49,
   "metadata": {},
   "outputs": [
    {
     "data": {
      "text/html": [
       "<div>\n",
       "<style scoped>\n",
       "    .dataframe tbody tr th:only-of-type {\n",
       "        vertical-align: middle;\n",
       "    }\n",
       "\n",
       "    .dataframe tbody tr th {\n",
       "        vertical-align: top;\n",
       "    }\n",
       "\n",
       "    .dataframe thead th {\n",
       "        text-align: right;\n",
       "    }\n",
       "</style>\n",
       "<table border=\"1\" class=\"dataframe\">\n",
       "  <thead>\n",
       "    <tr style=\"text-align: right;\">\n",
       "      <th></th>\n",
       "      <th>level_0</th>\n",
       "      <th>index</th>\n",
       "      <th>BoroName</th>\n",
       "    </tr>\n",
       "  </thead>\n",
       "  <tbody>\n",
       "    <tr>\n",
       "      <th>0</th>\n",
       "      <td>0</td>\n",
       "      <td>Queens</td>\n",
       "      <td>58</td>\n",
       "    </tr>\n",
       "    <tr>\n",
       "      <th>1</th>\n",
       "      <td>1</td>\n",
       "      <td>Brooklyn</td>\n",
       "      <td>51</td>\n",
       "    </tr>\n",
       "    <tr>\n",
       "      <th>2</th>\n",
       "      <td>2</td>\n",
       "      <td>Bronx</td>\n",
       "      <td>38</td>\n",
       "    </tr>\n",
       "    <tr>\n",
       "      <th>3</th>\n",
       "      <td>3</td>\n",
       "      <td>Manhattan</td>\n",
       "      <td>29</td>\n",
       "    </tr>\n",
       "    <tr>\n",
       "      <th>4</th>\n",
       "      <td>4</td>\n",
       "      <td>Staten Island</td>\n",
       "      <td>19</td>\n",
       "    </tr>\n",
       "  </tbody>\n",
       "</table>\n",
       "</div>"
      ],
      "text/plain": [
       "   level_0          index  BoroName\n",
       "0        0         Queens        58\n",
       "1        1       Brooklyn        51\n",
       "2        2          Bronx        38\n",
       "3        3      Manhattan        29\n",
       "4        4  Staten Island        19"
      ]
     },
     "execution_count": 49,
     "metadata": {},
     "output_type": "execute_result"
    }
   ],
   "source": [
    "#Convert series into a dataframe\n",
    "neighborhood_count= neighborhood_count.reset_index()\n",
    "neighborhood_count"
   ]
  },
  {
   "cell_type": "markdown",
   "metadata": {},
   "source": [
    "Here you can see the numbers of neighborhoods in each borough, however, the colomn names does not explain the data in each column, we need to adjust the names by making the current columns a list, and give the list column names."
   ]
  },
  {
   "cell_type": "markdown",
   "metadata": {},
   "source": [
    "### Rename Coloumns"
   ]
  },
  {
   "cell_type": "markdown",
   "metadata": {},
   "source": [
    "**Step 1**:Making current columns a list"
   ]
  },
  {
   "cell_type": "code",
   "execution_count": 50,
   "metadata": {},
   "outputs": [
    {
     "data": {
      "text/plain": [
       "['level_0', 'index', 'BoroName']"
      ]
     },
     "execution_count": 50,
     "metadata": {},
     "output_type": "execute_result"
    }
   ],
   "source": [
    "#Current column as a list\n",
    "neighborhood_count.columns.to_list()"
   ]
  },
  {
   "cell_type": "markdown",
   "metadata": {},
   "source": [
    "The above is the list of the current column names"
   ]
  },
  {
   "cell_type": "markdown",
   "metadata": {},
   "source": [
    "**Step 2**: Next, we need to rename the each element in the list to proper names that represent contents in each column. "
   ]
  },
  {
   "cell_type": "code",
   "execution_count": 55,
   "metadata": {},
   "outputs": [
    {
     "data": {
      "text/html": [
       "<div>\n",
       "<style scoped>\n",
       "    .dataframe tbody tr th:only-of-type {\n",
       "        vertical-align: middle;\n",
       "    }\n",
       "\n",
       "    .dataframe tbody tr th {\n",
       "        vertical-align: top;\n",
       "    }\n",
       "\n",
       "    .dataframe thead th {\n",
       "        text-align: right;\n",
       "    }\n",
       "</style>\n",
       "<table border=\"1\" class=\"dataframe\">\n",
       "  <thead>\n",
       "    <tr style=\"text-align: right;\">\n",
       "      <th></th>\n",
       "      <th>Levels</th>\n",
       "      <th>Borough Name</th>\n",
       "      <th>Neighborhood Number</th>\n",
       "    </tr>\n",
       "  </thead>\n",
       "  <tbody>\n",
       "    <tr>\n",
       "      <th>0</th>\n",
       "      <td>0</td>\n",
       "      <td>Queens</td>\n",
       "      <td>58</td>\n",
       "    </tr>\n",
       "    <tr>\n",
       "      <th>1</th>\n",
       "      <td>1</td>\n",
       "      <td>Brooklyn</td>\n",
       "      <td>51</td>\n",
       "    </tr>\n",
       "    <tr>\n",
       "      <th>2</th>\n",
       "      <td>2</td>\n",
       "      <td>Bronx</td>\n",
       "      <td>38</td>\n",
       "    </tr>\n",
       "    <tr>\n",
       "      <th>3</th>\n",
       "      <td>3</td>\n",
       "      <td>Manhattan</td>\n",
       "      <td>29</td>\n",
       "    </tr>\n",
       "    <tr>\n",
       "      <th>4</th>\n",
       "      <td>4</td>\n",
       "      <td>Staten Island</td>\n",
       "      <td>19</td>\n",
       "    </tr>\n",
       "  </tbody>\n",
       "</table>\n",
       "</div>"
      ],
      "text/plain": [
       "   Levels   Borough Name  Neighborhood Number\n",
       "0       0         Queens                   58\n",
       "1       1       Brooklyn                   51\n",
       "2       2          Bronx                   38\n",
       "3       3      Manhattan                   29\n",
       "4       4  Staten Island                   19"
      ]
     },
     "execution_count": 55,
     "metadata": {},
     "output_type": "execute_result"
    }
   ],
   "source": [
    "neighborhood_count.columns =['Levels','Borough Name', 'Neighborhood Number']\n",
    "neighborhood_count"
   ]
  },
  {
   "cell_type": "markdown",
   "metadata": {},
   "source": [
    "This dataframe shows the adjusted column names"
   ]
  },
  {
   "cell_type": "markdown",
   "metadata": {},
   "source": [
    "### plot the dataframe"
   ]
  },
  {
   "cell_type": "markdown",
   "metadata": {},
   "source": [
    "I will now plot the dataframe generated above."
   ]
  },
  {
   "cell_type": "code",
   "execution_count": 58,
   "metadata": {},
   "outputs": [
    {
     "data": {
      "text/plain": [
       "<matplotlib.axes._subplots.AxesSubplot at 0x7f35f1c83040>"
      ]
     },
     "execution_count": 58,
     "metadata": {},
     "output_type": "execute_result"
    },
    {
     "data": {
      "image/png": "[encoded data removed]",
      "text/plain": [
       "<Figure size 432x288 with 1 Axes>"
      ]
     },
     "metadata": {
      "needs_background": "light"
     },
     "output_type": "display_data"
    }
   ],
   "source": [
    "neighborhood_count.plot.bar(x='Borough Name', y='Neighborhood Number', title='numbers of neighborhoods per borough')"
   ]
  },
  {
   "cell_type": "markdown",
   "metadata": {},
   "source": [
    "The above is a bar chart with numbers of neighborhoods per borough in New York City. "
   ]
  },
  {
   "cell_type": "markdown",
   "metadata": {},
   "source": [
    "### Trimming the data"
   ]
  },
  {
   "cell_type": "markdown",
   "metadata": {},
   "source": [
    "There are some columns that we don't necessarily need in the dataset for our analysis. I will first find out the detailed information about the dataset use `info` command."
   ]
  },
  {
   "cell_type": "code",
   "execution_count": 60,
   "metadata": {},
   "outputs": [
    {
     "name": "stdout",
     "output_type": "stream",
     "text": [
      "<class 'geopandas.geodataframe.GeoDataFrame'>\n",
      "RangeIndex: 195 entries, 0 to 194\n",
      "Data columns (total 8 columns):\n",
      " #   Column      Non-Null Count  Dtype   \n",
      "---  ------      --------------  -----   \n",
      " 0   BoroCode    195 non-null    int64   \n",
      " 1   BoroName    195 non-null    object  \n",
      " 2   CountyFIPS  195 non-null    object  \n",
      " 3   NTACode     195 non-null    object  \n",
      " 4   NTAName     195 non-null    object  \n",
      " 5   Shape_Leng  195 non-null    float64 \n",
      " 6   Shape_Area  195 non-null    float64 \n",
      " 7   geometry    195 non-null    geometry\n",
      "dtypes: float64(2), geometry(1), int64(1), object(4)\n",
      "memory usage: 12.3+ KB\n"
     ]
    }
   ],
   "source": [
    "neighborhood.info()"
   ]
  },
  {
   "cell_type": "markdown",
   "metadata": {},
   "source": [
    "Here is a detailed picture of what colomns exist in the dataset. I would love to keep BoroName, CountyFIPS, NTAName, and geometry column."
   ]
  },
  {
   "cell_type": "markdown",
   "metadata": {},
   "source": [
    "I will trim the rest of the colomn."
   ]
  },
  {
   "cell_type": "code",
   "execution_count": 62,
   "metadata": {},
   "outputs": [
    {
     "data": {
      "text/html": [
       "<div>\n",
       "<style scoped>\n",
       "    .dataframe tbody tr th:only-of-type {\n",
       "        vertical-align: middle;\n",
       "    }\n",
       "\n",
       "    .dataframe tbody tr th {\n",
       "        vertical-align: top;\n",
       "    }\n",
       "\n",
       "    .dataframe thead th {\n",
       "        text-align: right;\n",
       "    }\n",
       "</style>\n",
       "<table border=\"1\" class=\"dataframe\">\n",
       "  <thead>\n",
       "    <tr style=\"text-align: right;\">\n",
       "      <th></th>\n",
       "      <th>BoroName</th>\n",
       "      <th>CountyFIPS</th>\n",
       "      <th>NTAName</th>\n",
       "      <th>geometry</th>\n",
       "    </tr>\n",
       "  </thead>\n",
       "  <tbody>\n",
       "    <tr>\n",
       "      <th>0</th>\n",
       "      <td>Brooklyn</td>\n",
       "      <td>047</td>\n",
       "      <td>Borough Park</td>\n",
       "      <td>POLYGON ((990897.900 169268.121, 990588.252 16...</td>\n",
       "    </tr>\n",
       "    <tr>\n",
       "      <th>1</th>\n",
       "      <td>Queens</td>\n",
       "      <td>081</td>\n",
       "      <td>Murray Hill</td>\n",
       "      <td>POLYGON ((1038593.459 221913.355, 1039369.281 ...</td>\n",
       "    </tr>\n",
       "    <tr>\n",
       "      <th>2</th>\n",
       "      <td>Queens</td>\n",
       "      <td>081</td>\n",
       "      <td>East Elmhurst</td>\n",
       "      <td>POLYGON ((1022728.275 217530.808, 1023052.645 ...</td>\n",
       "    </tr>\n",
       "    <tr>\n",
       "      <th>3</th>\n",
       "      <td>Queens</td>\n",
       "      <td>081</td>\n",
       "      <td>Hollis</td>\n",
       "      <td>POLYGON ((1051539.660 201007.013, 1051920.726 ...</td>\n",
       "    </tr>\n",
       "    <tr>\n",
       "      <th>4</th>\n",
       "      <td>Brooklyn</td>\n",
       "      <td>047</td>\n",
       "      <td>Homecrest</td>\n",
       "      <td>POLYGON ((995746.857 161665.390, 995833.832 16...</td>\n",
       "    </tr>\n",
       "    <tr>\n",
       "      <th>...</th>\n",
       "      <td>...</td>\n",
       "      <td>...</td>\n",
       "      <td>...</td>\n",
       "      <td>...</td>\n",
       "    </tr>\n",
       "    <tr>\n",
       "      <th>190</th>\n",
       "      <td>Queens</td>\n",
       "      <td>081</td>\n",
       "      <td>Elmhurst</td>\n",
       "      <td>POLYGON ((1020851.425 210703.673, 1020860.825 ...</td>\n",
       "    </tr>\n",
       "    <tr>\n",
       "      <th>191</th>\n",
       "      <td>Queens</td>\n",
       "      <td>081</td>\n",
       "      <td>Elmhurst-Maspeth</td>\n",
       "      <td>POLYGON ((1014244.431 211378.830, 1014343.991 ...</td>\n",
       "    </tr>\n",
       "    <tr>\n",
       "      <th>192</th>\n",
       "      <td>Staten Island</td>\n",
       "      <td>085</td>\n",
       "      <td>Todt Hill-Emerson Hill-Heartland Village-Light...</td>\n",
       "      <td>POLYGON ((957104.002 161758.179, 957233.148 16...</td>\n",
       "    </tr>\n",
       "    <tr>\n",
       "      <th>193</th>\n",
       "      <td>Staten Island</td>\n",
       "      <td>085</td>\n",
       "      <td>Old Town-Dongan Hills-South Beach</td>\n",
       "      <td>POLYGON ((966187.482 153868.426, 966187.523 15...</td>\n",
       "    </tr>\n",
       "    <tr>\n",
       "      <th>194</th>\n",
       "      <td>Staten Island</td>\n",
       "      <td>085</td>\n",
       "      <td>park-cemetery-etc-Staten Island</td>\n",
       "      <td>MULTIPOLYGON (((951420.092 139894.411, 951856....</td>\n",
       "    </tr>\n",
       "  </tbody>\n",
       "</table>\n",
       "<p>195 rows × 4 columns</p>\n",
       "</div>"
      ],
      "text/plain": [
       "          BoroName CountyFIPS  \\\n",
       "0         Brooklyn        047   \n",
       "1           Queens        081   \n",
       "2           Queens        081   \n",
       "3           Queens        081   \n",
       "4         Brooklyn        047   \n",
       "..             ...        ...   \n",
       "190         Queens        081   \n",
       "191         Queens        081   \n",
       "192  Staten Island        085   \n",
       "193  Staten Island        085   \n",
       "194  Staten Island        085   \n",
       "\n",
       "                                               NTAName  \\\n",
       "0                                         Borough Park   \n",
       "1                                          Murray Hill   \n",
       "2                                        East Elmhurst   \n",
       "3                                               Hollis   \n",
       "4                                            Homecrest   \n",
       "..                                                 ...   \n",
       "190                                           Elmhurst   \n",
       "191                                   Elmhurst-Maspeth   \n",
       "192  Todt Hill-Emerson Hill-Heartland Village-Light...   \n",
       "193                  Old Town-Dongan Hills-South Beach   \n",
       "194                    park-cemetery-etc-Staten Island   \n",
       "\n",
       "                                              geometry  \n",
       "0    POLYGON ((990897.900 169268.121, 990588.252 16...  \n",
       "1    POLYGON ((1038593.459 221913.355, 1039369.281 ...  \n",
       "2    POLYGON ((1022728.275 217530.808, 1023052.645 ...  \n",
       "3    POLYGON ((1051539.660 201007.013, 1051920.726 ...  \n",
       "4    POLYGON ((995746.857 161665.390, 995833.832 16...  \n",
       "..                                                 ...  \n",
       "190  POLYGON ((1020851.425 210703.673, 1020860.825 ...  \n",
       "191  POLYGON ((1014244.431 211378.830, 1014343.991 ...  \n",
       "192  POLYGON ((957104.002 161758.179, 957233.148 16...  \n",
       "193  POLYGON ((966187.482 153868.426, 966187.523 15...  \n",
       "194  MULTIPOLYGON (((951420.092 139894.411, 951856....  \n",
       "\n",
       "[195 rows x 4 columns]"
      ]
     },
     "execution_count": 62,
     "metadata": {},
     "output_type": "execute_result"
    }
   ],
   "source": [
    "neighborhood[['BoroName','CountyFIPS','NTAName','geometry']]"
   ]
  },
  {
   "cell_type": "markdown",
   "metadata": {},
   "source": [
    "Here is the trimmed dataframe with the desired columns."
   ]
  },
  {
   "cell_type": "code",
   "execution_count": 63,
   "metadata": {},
   "outputs": [
    {
     "data": {
      "text/html": [
       "<div>\n",
       "<style scoped>\n",
       "    .dataframe tbody tr th:only-of-type {\n",
       "        vertical-align: middle;\n",
       "    }\n",
       "\n",
       "    .dataframe tbody tr th {\n",
       "        vertical-align: top;\n",
       "    }\n",
       "\n",
       "    .dataframe thead th {\n",
       "        text-align: right;\n",
       "    }\n",
       "</style>\n",
       "<table border=\"1\" class=\"dataframe\">\n",
       "  <thead>\n",
       "    <tr style=\"text-align: right;\">\n",
       "      <th></th>\n",
       "      <th>BoroName</th>\n",
       "      <th>CountyFIPS</th>\n",
       "      <th>NTAName</th>\n",
       "      <th>geometry</th>\n",
       "    </tr>\n",
       "  </thead>\n",
       "  <tbody>\n",
       "    <tr>\n",
       "      <th>0</th>\n",
       "      <td>Brooklyn</td>\n",
       "      <td>047</td>\n",
       "      <td>Borough Park</td>\n",
       "      <td>POLYGON ((990897.900 169268.121, 990588.252 16...</td>\n",
       "    </tr>\n",
       "    <tr>\n",
       "      <th>1</th>\n",
       "      <td>Queens</td>\n",
       "      <td>081</td>\n",
       "      <td>Murray Hill</td>\n",
       "      <td>POLYGON ((1038593.459 221913.355, 1039369.281 ...</td>\n",
       "    </tr>\n",
       "    <tr>\n",
       "      <th>2</th>\n",
       "      <td>Queens</td>\n",
       "      <td>081</td>\n",
       "      <td>East Elmhurst</td>\n",
       "      <td>POLYGON ((1022728.275 217530.808, 1023052.645 ...</td>\n",
       "    </tr>\n",
       "    <tr>\n",
       "      <th>3</th>\n",
       "      <td>Queens</td>\n",
       "      <td>081</td>\n",
       "      <td>Hollis</td>\n",
       "      <td>POLYGON ((1051539.660 201007.013, 1051920.726 ...</td>\n",
       "    </tr>\n",
       "    <tr>\n",
       "      <th>4</th>\n",
       "      <td>Brooklyn</td>\n",
       "      <td>047</td>\n",
       "      <td>Homecrest</td>\n",
       "      <td>POLYGON ((995746.857 161665.390, 995833.832 16...</td>\n",
       "    </tr>\n",
       "    <tr>\n",
       "      <th>...</th>\n",
       "      <td>...</td>\n",
       "      <td>...</td>\n",
       "      <td>...</td>\n",
       "      <td>...</td>\n",
       "    </tr>\n",
       "    <tr>\n",
       "      <th>190</th>\n",
       "      <td>Queens</td>\n",
       "      <td>081</td>\n",
       "      <td>Elmhurst</td>\n",
       "      <td>POLYGON ((1020851.425 210703.673, 1020860.825 ...</td>\n",
       "    </tr>\n",
       "    <tr>\n",
       "      <th>191</th>\n",
       "      <td>Queens</td>\n",
       "      <td>081</td>\n",
       "      <td>Elmhurst-Maspeth</td>\n",
       "      <td>POLYGON ((1014244.431 211378.830, 1014343.991 ...</td>\n",
       "    </tr>\n",
       "    <tr>\n",
       "      <th>192</th>\n",
       "      <td>Staten Island</td>\n",
       "      <td>085</td>\n",
       "      <td>Todt Hill-Emerson Hill-Heartland Village-Light...</td>\n",
       "      <td>POLYGON ((957104.002 161758.179, 957233.148 16...</td>\n",
       "    </tr>\n",
       "    <tr>\n",
       "      <th>193</th>\n",
       "      <td>Staten Island</td>\n",
       "      <td>085</td>\n",
       "      <td>Old Town-Dongan Hills-South Beach</td>\n",
       "      <td>POLYGON ((966187.482 153868.426, 966187.523 15...</td>\n",
       "    </tr>\n",
       "    <tr>\n",
       "      <th>194</th>\n",
       "      <td>Staten Island</td>\n",
       "      <td>085</td>\n",
       "      <td>park-cemetery-etc-Staten Island</td>\n",
       "      <td>MULTIPOLYGON (((951420.092 139894.411, 951856....</td>\n",
       "    </tr>\n",
       "  </tbody>\n",
       "</table>\n",
       "<p>195 rows × 4 columns</p>\n",
       "</div>"
      ],
      "text/plain": [
       "          BoroName CountyFIPS  \\\n",
       "0         Brooklyn        047   \n",
       "1           Queens        081   \n",
       "2           Queens        081   \n",
       "3           Queens        081   \n",
       "4         Brooklyn        047   \n",
       "..             ...        ...   \n",
       "190         Queens        081   \n",
       "191         Queens        081   \n",
       "192  Staten Island        085   \n",
       "193  Staten Island        085   \n",
       "194  Staten Island        085   \n",
       "\n",
       "                                               NTAName  \\\n",
       "0                                         Borough Park   \n",
       "1                                          Murray Hill   \n",
       "2                                        East Elmhurst   \n",
       "3                                               Hollis   \n",
       "4                                            Homecrest   \n",
       "..                                                 ...   \n",
       "190                                           Elmhurst   \n",
       "191                                   Elmhurst-Maspeth   \n",
       "192  Todt Hill-Emerson Hill-Heartland Village-Light...   \n",
       "193                  Old Town-Dongan Hills-South Beach   \n",
       "194                    park-cemetery-etc-Staten Island   \n",
       "\n",
       "                                              geometry  \n",
       "0    POLYGON ((990897.900 169268.121, 990588.252 16...  \n",
       "1    POLYGON ((1038593.459 221913.355, 1039369.281 ...  \n",
       "2    POLYGON ((1022728.275 217530.808, 1023052.645 ...  \n",
       "3    POLYGON ((1051539.660 201007.013, 1051920.726 ...  \n",
       "4    POLYGON ((995746.857 161665.390, 995833.832 16...  \n",
       "..                                                 ...  \n",
       "190  POLYGON ((1020851.425 210703.673, 1020860.825 ...  \n",
       "191  POLYGON ((1014244.431 211378.830, 1014343.991 ...  \n",
       "192  POLYGON ((957104.002 161758.179, 957233.148 16...  \n",
       "193  POLYGON ((966187.482 153868.426, 966187.523 15...  \n",
       "194  MULTIPOLYGON (((951420.092 139894.411, 951856....  \n",
       "\n",
       "[195 rows x 4 columns]"
      ]
     },
     "execution_count": 63,
     "metadata": {},
     "output_type": "execute_result"
    }
   ],
   "source": [
    "# subset based on desired columns\n",
    "desired_columns=['BoroName','CountyFIPS','NTAName','geometry']\n",
    "neighborhood[desired_columns]"
   ]
  },
  {
   "cell_type": "markdown",
   "metadata": {},
   "source": [
    "To preserve the new dataframe, I will use the `.copy()` command. "
   ]
  },
  {
   "cell_type": "code",
   "execution_count": 65,
   "metadata": {},
   "outputs": [
    {
     "data": {
      "text/html": [
       "<div>\n",
       "<style scoped>\n",
       "    .dataframe tbody tr th:only-of-type {\n",
       "        vertical-align: middle;\n",
       "    }\n",
       "\n",
       "    .dataframe tbody tr th {\n",
       "        vertical-align: top;\n",
       "    }\n",
       "\n",
       "    .dataframe thead th {\n",
       "        text-align: right;\n",
       "    }\n",
       "</style>\n",
       "<table border=\"1\" class=\"dataframe\">\n",
       "  <thead>\n",
       "    <tr style=\"text-align: right;\">\n",
       "      <th></th>\n",
       "      <th>BoroName</th>\n",
       "      <th>CountyFIPS</th>\n",
       "      <th>NTAName</th>\n",
       "      <th>geometry</th>\n",
       "    </tr>\n",
       "  </thead>\n",
       "  <tbody>\n",
       "    <tr>\n",
       "      <th>0</th>\n",
       "      <td>Brooklyn</td>\n",
       "      <td>047</td>\n",
       "      <td>Borough Park</td>\n",
       "      <td>POLYGON ((990897.900 169268.121, 990588.252 16...</td>\n",
       "    </tr>\n",
       "    <tr>\n",
       "      <th>1</th>\n",
       "      <td>Queens</td>\n",
       "      <td>081</td>\n",
       "      <td>Murray Hill</td>\n",
       "      <td>POLYGON ((1038593.459 221913.355, 1039369.281 ...</td>\n",
       "    </tr>\n",
       "    <tr>\n",
       "      <th>2</th>\n",
       "      <td>Queens</td>\n",
       "      <td>081</td>\n",
       "      <td>East Elmhurst</td>\n",
       "      <td>POLYGON ((1022728.275 217530.808, 1023052.645 ...</td>\n",
       "    </tr>\n",
       "    <tr>\n",
       "      <th>3</th>\n",
       "      <td>Queens</td>\n",
       "      <td>081</td>\n",
       "      <td>Hollis</td>\n",
       "      <td>POLYGON ((1051539.660 201007.013, 1051920.726 ...</td>\n",
       "    </tr>\n",
       "    <tr>\n",
       "      <th>4</th>\n",
       "      <td>Brooklyn</td>\n",
       "      <td>047</td>\n",
       "      <td>Homecrest</td>\n",
       "      <td>POLYGON ((995746.857 161665.390, 995833.832 16...</td>\n",
       "    </tr>\n",
       "    <tr>\n",
       "      <th>...</th>\n",
       "      <td>...</td>\n",
       "      <td>...</td>\n",
       "      <td>...</td>\n",
       "      <td>...</td>\n",
       "    </tr>\n",
       "    <tr>\n",
       "      <th>190</th>\n",
       "      <td>Queens</td>\n",
       "      <td>081</td>\n",
       "      <td>Elmhurst</td>\n",
       "      <td>POLYGON ((1020851.425 210703.673, 1020860.825 ...</td>\n",
       "    </tr>\n",
       "    <tr>\n",
       "      <th>191</th>\n",
       "      <td>Queens</td>\n",
       "      <td>081</td>\n",
       "      <td>Elmhurst-Maspeth</td>\n",
       "      <td>POLYGON ((1014244.431 211378.830, 1014343.991 ...</td>\n",
       "    </tr>\n",
       "    <tr>\n",
       "      <th>192</th>\n",
       "      <td>Staten Island</td>\n",
       "      <td>085</td>\n",
       "      <td>Todt Hill-Emerson Hill-Heartland Village-Light...</td>\n",
       "      <td>POLYGON ((957104.002 161758.179, 957233.148 16...</td>\n",
       "    </tr>\n",
       "    <tr>\n",
       "      <th>193</th>\n",
       "      <td>Staten Island</td>\n",
       "      <td>085</td>\n",
       "      <td>Old Town-Dongan Hills-South Beach</td>\n",
       "      <td>POLYGON ((966187.482 153868.426, 966187.523 15...</td>\n",
       "    </tr>\n",
       "    <tr>\n",
       "      <th>194</th>\n",
       "      <td>Staten Island</td>\n",
       "      <td>085</td>\n",
       "      <td>park-cemetery-etc-Staten Island</td>\n",
       "      <td>MULTIPOLYGON (((951420.092 139894.411, 951856....</td>\n",
       "    </tr>\n",
       "  </tbody>\n",
       "</table>\n",
       "<p>195 rows × 4 columns</p>\n",
       "</div>"
      ],
      "text/plain": [
       "          BoroName CountyFIPS  \\\n",
       "0         Brooklyn        047   \n",
       "1           Queens        081   \n",
       "2           Queens        081   \n",
       "3           Queens        081   \n",
       "4         Brooklyn        047   \n",
       "..             ...        ...   \n",
       "190         Queens        081   \n",
       "191         Queens        081   \n",
       "192  Staten Island        085   \n",
       "193  Staten Island        085   \n",
       "194  Staten Island        085   \n",
       "\n",
       "                                               NTAName  \\\n",
       "0                                         Borough Park   \n",
       "1                                          Murray Hill   \n",
       "2                                        East Elmhurst   \n",
       "3                                               Hollis   \n",
       "4                                            Homecrest   \n",
       "..                                                 ...   \n",
       "190                                           Elmhurst   \n",
       "191                                   Elmhurst-Maspeth   \n",
       "192  Todt Hill-Emerson Hill-Heartland Village-Light...   \n",
       "193                  Old Town-Dongan Hills-South Beach   \n",
       "194                    park-cemetery-etc-Staten Island   \n",
       "\n",
       "                                              geometry  \n",
       "0    POLYGON ((990897.900 169268.121, 990588.252 16...  \n",
       "1    POLYGON ((1038593.459 221913.355, 1039369.281 ...  \n",
       "2    POLYGON ((1022728.275 217530.808, 1023052.645 ...  \n",
       "3    POLYGON ((1051539.660 201007.013, 1051920.726 ...  \n",
       "4    POLYGON ((995746.857 161665.390, 995833.832 16...  \n",
       "..                                                 ...  \n",
       "190  POLYGON ((1020851.425 210703.673, 1020860.825 ...  \n",
       "191  POLYGON ((1014244.431 211378.830, 1014343.991 ...  \n",
       "192  POLYGON ((957104.002 161758.179, 957233.148 16...  \n",
       "193  POLYGON ((966187.482 153868.426, 966187.523 15...  \n",
       "194  MULTIPOLYGON (((951420.092 139894.411, 951856....  \n",
       "\n",
       "[195 rows x 4 columns]"
      ]
     },
     "execution_count": 65,
     "metadata": {},
     "output_type": "execute_result"
    }
   ],
   "source": [
    "neighborhood_trimmed=neighborhood[desired_columns].copy()\n",
    "neighborhood_trimmed"
   ]
  },
  {
   "cell_type": "markdown",
   "metadata": {},
   "source": [
    "Now the new data frame with desired columns is ready for later analysis"
   ]
  },
  {
   "cell_type": "markdown",
   "metadata": {},
   "source": [
    "## Plotting"
   ]
  },
  {
   "cell_type": "markdown",
   "metadata": {},
   "source": [
    "Now I will visualize the data with the `plot()` command"
   ]
  },
  {
   "cell_type": "code",
   "execution_count": 67,
   "metadata": {},
   "outputs": [
    {
     "data": {
      "text/plain": [
       "<matplotlib.axes._subplots.AxesSubplot at 0x7f35f1c53d30>"
      ]
     },
     "execution_count": 67,
     "metadata": {},
     "output_type": "execute_result"
    },
    {
     "data": {
      "image/png": "[encoded data removed]",
      "text/plain": [
       "<Figure size 432x288 with 1 Axes>"
      ]
     },
     "metadata": {
      "needs_background": "light"
     },
     "output_type": "display_data"
    }
   ],
   "source": [
    "neighborhood_trimmed.plot()"
   ]
  },
  {
   "cell_type": "markdown",
   "metadata": {},
   "source": [
    "Here is the visualization of the trimmed data frame."
   ]
  },
  {
   "cell_type": "markdown",
   "metadata": {},
   "source": [
    "I will now make the plot look prettier"
   ]
  },
  {
   "cell_type": "code",
   "execution_count": 71,
   "metadata": {},
   "outputs": [
    {
     "data": {
      "text/plain": [
       "<matplotlib.axes._subplots.AxesSubplot at 0x7f35ef4ad4f0>"
      ]
     },
     "execution_count": 71,
     "metadata": {},
     "output_type": "execute_result"
    },
    {
     "data": {
      "image/png": "[encoded data removed]",
      "text/plain": [
       "<Figure size 1440x864 with 1 Axes>"
      ]
     },
     "metadata": {
      "needs_background": "light"
     },
     "output_type": "display_data"
    }
   ],
   "source": [
    "neighborhood_trimmed.plot(\n",
    "           figsize=(20,12),   #size of the plot (a bit bigger than the default)\n",
    "            column = 'BoroName',   # column that defines the color of the dots\n",
    "            legend = True,     # add a legend           \n",
    "            legend_kwds={\n",
    "               'loc': 'upper right',\n",
    "               'bbox_to_anchor':(1.3,1)\n",
    "            }                  # this puts the legend to the side\n",
    ") "
   ]
  },
  {
   "cell_type": "markdown",
   "metadata": {},
   "source": [
    "Here you can see the color-coded boroughs with neighborhood polygons within each borough."
   ]
  }
 ],
 "metadata": {
  "kernelspec": {
   "display_name": "Python 3",
   "language": "python",
   "name": "python3"
  },
  "language_info": {
   "codemirror_mode": {
    "name": "ipython",
    "version": 3
   },
   "file_extension": ".py",
   "mimetype": "text/x-python",
   "name": "python",
   "nbconvert_exporter": "python",
   "pygments_lexer": "ipython3",
   "version": "3.8.5"
  },
  "toc": {
   "base_numbering": 1,
   "nav_menu": {},
   "number_sections": true,
   "sideBar": true,
   "skip_h1_title": false,
   "title_cell": "Table of Contents",
   "title_sidebar": "Contents",
   "toc_cell": false,
   "toc_position": {},
   "toc_section_display": true,
   "toc_window_display": false
  }
 },
 "nbformat": 4,
 "nbformat_minor": 4
}
